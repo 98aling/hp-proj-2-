{
 "cells": [
  {
   "cell_type": "code",
   "execution_count": 3,
   "id": "fbcde680",
   "metadata": {},
   "outputs": [],
   "source": [
    "import pandas as pd\n",
    "import matplotlib.pyplot as plt\n",
    "import seaborn as sns\n",
    "import numpy as np\n"
   ]
  },
  {
   "cell_type": "code",
   "execution_count": 4,
   "id": "09818f19",
   "metadata": {},
   "outputs": [],
   "source": [
    "df1 = pd.read_csv('Chapters.csv', encoding='latin-1')\n"
   ]
  },
  {
   "cell_type": "code",
   "execution_count": 5,
   "id": "16071f0d",
   "metadata": {},
   "outputs": [],
   "source": [
    "df2 = pd.read_csv('WorldCupMatches.csv', encoding='latin-1')"
   ]
  },
  {
   "cell_type": "code",
   "execution_count": 6,
   "id": "b4c201d5",
   "metadata": {},
   "outputs": [
    {
     "data": {
      "text/html": [
       "<div>\n",
       "<style scoped>\n",
       "    .dataframe tbody tr th:only-of-type {\n",
       "        vertical-align: middle;\n",
       "    }\n",
       "\n",
       "    .dataframe tbody tr th {\n",
       "        vertical-align: top;\n",
       "    }\n",
       "\n",
       "    .dataframe thead th {\n",
       "        text-align: right;\n",
       "    }\n",
       "</style>\n",
       "<table border=\"1\" class=\"dataframe\">\n",
       "  <thead>\n",
       "    <tr style=\"text-align: right;\">\n",
       "      <th></th>\n",
       "      <th>Chapter ID</th>\n",
       "      <th>Chapter Name</th>\n",
       "      <th>Movie ID</th>\n",
       "      <th>Movie Chapter</th>\n",
       "    </tr>\n",
       "  </thead>\n",
       "  <tbody>\n",
       "    <tr>\n",
       "      <th>0</th>\n",
       "      <td>1</td>\n",
       "      <td>Doorstep Delivery</td>\n",
       "      <td>1</td>\n",
       "      <td>1</td>\n",
       "    </tr>\n",
       "    <tr>\n",
       "      <th>1</th>\n",
       "      <td>2</td>\n",
       "      <td>The Vanishing Glass</td>\n",
       "      <td>1</td>\n",
       "      <td>2</td>\n",
       "    </tr>\n",
       "    <tr>\n",
       "      <th>2</th>\n",
       "      <td>3</td>\n",
       "      <td>Letters from No One</td>\n",
       "      <td>1</td>\n",
       "      <td>3</td>\n",
       "    </tr>\n",
       "    <tr>\n",
       "      <th>3</th>\n",
       "      <td>4</td>\n",
       "      <td>Keeper of the Keys</td>\n",
       "      <td>1</td>\n",
       "      <td>4</td>\n",
       "    </tr>\n",
       "    <tr>\n",
       "      <th>4</th>\n",
       "      <td>5</td>\n",
       "      <td>Diagon Alley</td>\n",
       "      <td>1</td>\n",
       "      <td>5</td>\n",
       "    </tr>\n",
       "  </tbody>\n",
       "</table>\n",
       "</div>"
      ],
      "text/plain": [
       "   Chapter ID         Chapter Name  Movie ID  Movie Chapter\n",
       "0           1    Doorstep Delivery         1              1\n",
       "1           2  The Vanishing Glass         1              2\n",
       "2           3  Letters from No One         1              3\n",
       "3           4   Keeper of the Keys         1              4\n",
       "4           5         Diagon Alley         1              5"
      ]
     },
     "execution_count": 6,
     "metadata": {},
     "output_type": "execute_result"
    }
   ],
   "source": [
    "df1 .head()"
   ]
  },
  {
   "cell_type": "code",
   "execution_count": 15,
   "id": "b3fc386d",
   "metadata": {},
   "outputs": [
    {
     "data": {
      "text/html": [
       "<div>\n",
       "<style scoped>\n",
       "    .dataframe tbody tr th:only-of-type {\n",
       "        vertical-align: middle;\n",
       "    }\n",
       "\n",
       "    .dataframe tbody tr th {\n",
       "        vertical-align: top;\n",
       "    }\n",
       "\n",
       "    .dataframe thead th {\n",
       "        text-align: right;\n",
       "    }\n",
       "</style>\n",
       "<table border=\"1\" class=\"dataframe\">\n",
       "  <thead>\n",
       "    <tr style=\"text-align: right;\">\n",
       "      <th></th>\n",
       "      <th>Chapter ID</th>\n",
       "      <th>Datetime</th>\n",
       "      <th>Stage</th>\n",
       "      <th>Stadium</th>\n",
       "      <th>City</th>\n",
       "      <th>Home Team Name</th>\n",
       "      <th>Home Team Goals</th>\n",
       "      <th>Away Team Goals</th>\n",
       "      <th>Away Team Name</th>\n",
       "      <th>Win conditions</th>\n",
       "      <th>Attendance</th>\n",
       "      <th>Half-time Home Goals</th>\n",
       "      <th>Half-time Away Goals</th>\n",
       "      <th>Referee</th>\n",
       "      <th>Assistant 1</th>\n",
       "      <th>Assistant 2</th>\n",
       "      <th>RoundID</th>\n",
       "      <th>MatchID</th>\n",
       "      <th>Home Team Initials</th>\n",
       "      <th>Away Team Initials</th>\n",
       "    </tr>\n",
       "  </thead>\n",
       "  <tbody>\n",
       "    <tr>\n",
       "      <th>0</th>\n",
       "      <td>1930</td>\n",
       "      <td>13 Jul 1930 - 15:00</td>\n",
       "      <td>Group 1</td>\n",
       "      <td>Pocitos</td>\n",
       "      <td>Montevideo</td>\n",
       "      <td>France</td>\n",
       "      <td>4</td>\n",
       "      <td>1</td>\n",
       "      <td>Mexico</td>\n",
       "      <td></td>\n",
       "      <td>4444.0</td>\n",
       "      <td>3</td>\n",
       "      <td>0</td>\n",
       "      <td>LOMBARDI Domingo (URU)</td>\n",
       "      <td>CRISTOPHE Henry (BEL)</td>\n",
       "      <td>REGO Gilberto (BRA)</td>\n",
       "      <td>201</td>\n",
       "      <td>1096</td>\n",
       "      <td>FRA</td>\n",
       "      <td>MEX</td>\n",
       "    </tr>\n",
       "    <tr>\n",
       "      <th>1</th>\n",
       "      <td>1930</td>\n",
       "      <td>13 Jul 1930 - 15:00</td>\n",
       "      <td>Group 4</td>\n",
       "      <td>Parque Central</td>\n",
       "      <td>Montevideo</td>\n",
       "      <td>USA</td>\n",
       "      <td>3</td>\n",
       "      <td>0</td>\n",
       "      <td>Belgium</td>\n",
       "      <td></td>\n",
       "      <td>18346.0</td>\n",
       "      <td>2</td>\n",
       "      <td>0</td>\n",
       "      <td>MACIAS Jose (ARG)</td>\n",
       "      <td>MATEUCCI Francisco (URU)</td>\n",
       "      <td>WARNKEN Alberto (CHI)</td>\n",
       "      <td>201</td>\n",
       "      <td>1090</td>\n",
       "      <td>USA</td>\n",
       "      <td>BEL</td>\n",
       "    </tr>\n",
       "    <tr>\n",
       "      <th>2</th>\n",
       "      <td>1930</td>\n",
       "      <td>14 Jul 1930 - 12:45</td>\n",
       "      <td>Group 2</td>\n",
       "      <td>Parque Central</td>\n",
       "      <td>Montevideo</td>\n",
       "      <td>Yugoslavia</td>\n",
       "      <td>2</td>\n",
       "      <td>1</td>\n",
       "      <td>Brazil</td>\n",
       "      <td></td>\n",
       "      <td>24059.0</td>\n",
       "      <td>2</td>\n",
       "      <td>0</td>\n",
       "      <td>TEJADA Anibal (URU)</td>\n",
       "      <td>VALLARINO Ricardo (URU)</td>\n",
       "      <td>BALWAY Thomas (FRA)</td>\n",
       "      <td>201</td>\n",
       "      <td>1093</td>\n",
       "      <td>YUG</td>\n",
       "      <td>BRA</td>\n",
       "    </tr>\n",
       "    <tr>\n",
       "      <th>3</th>\n",
       "      <td>1930</td>\n",
       "      <td>14 Jul 1930 - 14:50</td>\n",
       "      <td>Group 3</td>\n",
       "      <td>Pocitos</td>\n",
       "      <td>Montevideo</td>\n",
       "      <td>Romania</td>\n",
       "      <td>3</td>\n",
       "      <td>1</td>\n",
       "      <td>Peru</td>\n",
       "      <td></td>\n",
       "      <td>2549.0</td>\n",
       "      <td>1</td>\n",
       "      <td>0</td>\n",
       "      <td>WARNKEN Alberto (CHI)</td>\n",
       "      <td>LANGENUS Jean (BEL)</td>\n",
       "      <td>MATEUCCI Francisco (URU)</td>\n",
       "      <td>201</td>\n",
       "      <td>1098</td>\n",
       "      <td>ROU</td>\n",
       "      <td>PER</td>\n",
       "    </tr>\n",
       "    <tr>\n",
       "      <th>4</th>\n",
       "      <td>1930</td>\n",
       "      <td>15 Jul 1930 - 16:00</td>\n",
       "      <td>Group 1</td>\n",
       "      <td>Parque Central</td>\n",
       "      <td>Montevideo</td>\n",
       "      <td>Argentina</td>\n",
       "      <td>1</td>\n",
       "      <td>0</td>\n",
       "      <td>France</td>\n",
       "      <td></td>\n",
       "      <td>23409.0</td>\n",
       "      <td>0</td>\n",
       "      <td>0</td>\n",
       "      <td>REGO Gilberto (BRA)</td>\n",
       "      <td>SAUCEDO Ulises (BOL)</td>\n",
       "      <td>RADULESCU Constantin (ROU)</td>\n",
       "      <td>201</td>\n",
       "      <td>1085</td>\n",
       "      <td>ARG</td>\n",
       "      <td>FRA</td>\n",
       "    </tr>\n",
       "  </tbody>\n",
       "</table>\n",
       "</div>"
      ],
      "text/plain": [
       "    Chapter ID              Datetime    Stage         Stadium         City  \\\n",
       "0         1930  13 Jul 1930 - 15:00   Group 1         Pocitos  Montevideo    \n",
       "1         1930  13 Jul 1930 - 15:00   Group 4  Parque Central  Montevideo    \n",
       "2         1930  14 Jul 1930 - 12:45   Group 2  Parque Central  Montevideo    \n",
       "3         1930  14 Jul 1930 - 14:50   Group 3         Pocitos  Montevideo    \n",
       "4         1930  15 Jul 1930 - 16:00   Group 1  Parque Central  Montevideo    \n",
       "\n",
       "  Home Team Name  Home Team Goals  Away Team Goals Away Team Name  \\\n",
       "0         France                4                1         Mexico   \n",
       "1            USA                3                0        Belgium   \n",
       "2     Yugoslavia                2                1         Brazil   \n",
       "3        Romania                3                1           Peru   \n",
       "4      Argentina                1                0         France   \n",
       "\n",
       "  Win conditions  Attendance  Half-time Home Goals  Half-time Away Goals  \\\n",
       "0                     4444.0                     3                     0   \n",
       "1                    18346.0                     2                     0   \n",
       "2                    24059.0                     2                     0   \n",
       "3                     2549.0                     1                     0   \n",
       "4                    23409.0                     0                     0   \n",
       "\n",
       "                  Referee               Assistant 1  \\\n",
       "0  LOMBARDI Domingo (URU)     CRISTOPHE Henry (BEL)   \n",
       "1       MACIAS Jose (ARG)  MATEUCCI Francisco (URU)   \n",
       "2     TEJADA Anibal (URU)   VALLARINO Ricardo (URU)   \n",
       "3   WARNKEN Alberto (CHI)       LANGENUS Jean (BEL)   \n",
       "4     REGO Gilberto (BRA)      SAUCEDO Ulises (BOL)   \n",
       "\n",
       "                  Assistant 2  RoundID  MatchID Home Team Initials  \\\n",
       "0         REGO Gilberto (BRA)      201     1096                FRA   \n",
       "1       WARNKEN Alberto (CHI)      201     1090                USA   \n",
       "2         BALWAY Thomas (FRA)      201     1093                YUG   \n",
       "3    MATEUCCI Francisco (URU)      201     1098                ROU   \n",
       "4  RADULESCU Constantin (ROU)      201     1085                ARG   \n",
       "\n",
       "  Away Team Initials  \n",
       "0                MEX  \n",
       "1                BEL  \n",
       "2                BRA  \n",
       "3                PER  \n",
       "4                FRA  "
      ]
     },
     "execution_count": 15,
     "metadata": {},
     "output_type": "execute_result"
    }
   ],
   "source": [
    "df2 .head()"
   ]
  },
  {
   "cell_type": "code",
   "execution_count": 16,
   "id": "de92eea4",
   "metadata": {},
   "outputs": [
    {
     "name": "stdout",
     "output_type": "stream",
     "text": [
      "\n",
      "DataFrame after renaming the column:\n",
      "      Chapter ID              Datetime                     Stage  \\\n",
      "0           1930  13 Jul 1930 - 15:00                    Group 1   \n",
      "1           1930  13 Jul 1930 - 15:00                    Group 4   \n",
      "2           1930  14 Jul 1930 - 12:45                    Group 2   \n",
      "3           1930  14 Jul 1930 - 14:50                    Group 3   \n",
      "4           1930  15 Jul 1930 - 16:00                    Group 1   \n",
      "..           ...                   ...                       ...   \n",
      "847         2014  05 Jul 2014 - 17:00             Quarter-finals   \n",
      "848         2014  08 Jul 2014 - 17:00                Semi-finals   \n",
      "849         2014  09 Jul 2014 - 17:00                Semi-finals   \n",
      "850         2014  12 Jul 2014 - 17:00   Play-off for third place   \n",
      "851         2014  13 Jul 2014 - 16:00                      Final   \n",
      "\n",
      "                 Stadium             City Home Team Name  Home Team Goals  \\\n",
      "0                Pocitos      Montevideo          France                4   \n",
      "1         Parque Central      Montevideo             USA                3   \n",
      "2         Parque Central      Montevideo      Yugoslavia                2   \n",
      "3                Pocitos      Montevideo         Romania                3   \n",
      "4         Parque Central      Montevideo       Argentina                1   \n",
      "..                   ...              ...            ...              ...   \n",
      "847     Arena Fonte Nova        Salvador     Netherlands                0   \n",
      "848     Estadio Mineirao  Belo Horizonte          Brazil                1   \n",
      "849   Arena de Sao Paulo       Sao Paulo     Netherlands                0   \n",
      "850     Estadio Nacional        Brasilia          Brazil                0   \n",
      "851  Estadio do Maracana  Rio De Janeiro         Germany                1   \n",
      "\n",
      "     Away Team Goals Away Team Name                         Win conditions  \\\n",
      "0                  1         Mexico                                          \n",
      "1                  0        Belgium                                          \n",
      "2                  1         Brazil                                          \n",
      "3                  1           Peru                                          \n",
      "4                  0         France                                          \n",
      "..               ...            ...                                    ...   \n",
      "847                0     Costa Rica  Netherlands win on penalties (4 - 3)    \n",
      "848                7        Germany                                          \n",
      "849                0      Argentina    Argentina win on penalties (2 - 4)    \n",
      "850                3    Netherlands                                          \n",
      "851                0      Argentina          Germany win after extra time    \n",
      "\n",
      "     Attendance  Half-time Home Goals  Half-time Away Goals  \\\n",
      "0        4444.0                     3                     0   \n",
      "1       18346.0                     2                     0   \n",
      "2       24059.0                     2                     0   \n",
      "3        2549.0                     1                     0   \n",
      "4       23409.0                     0                     0   \n",
      "..          ...                   ...                   ...   \n",
      "847     51179.0                     0                     0   \n",
      "848     58141.0                     0                     5   \n",
      "849     63267.0                     0                     0   \n",
      "850     68034.0                     0                     2   \n",
      "851     74738.0                     0                     0   \n",
      "\n",
      "                    Referee                  Assistant 1  \\\n",
      "0    LOMBARDI Domingo (URU)        CRISTOPHE Henry (BEL)   \n",
      "1         MACIAS Jose (ARG)     MATEUCCI Francisco (URU)   \n",
      "2       TEJADA Anibal (URU)      VALLARINO Ricardo (URU)   \n",
      "3     WARNKEN Alberto (CHI)          LANGENUS Jean (BEL)   \n",
      "4       REGO Gilberto (BRA)         SAUCEDO Ulises (BOL)   \n",
      "..                      ...                          ...   \n",
      "847   Ravshan IRMATOV (UZB)  RASULOV Abduxamidullo (UZB)   \n",
      "848   RODRIGUEZ Marco (MEX)      TORRENTERA Marvin (MEX)   \n",
      "849  Cï¿½neyt ï¿½AKIR (TUR)         DURAN Bahattin (TUR)   \n",
      "850   HAIMOUDI Djamel (ALG)         ACHIK Redouane (MAR)   \n",
      "851    Nicola RIZZOLI (ITA)        Renato FAVERANI (ITA)   \n",
      "\n",
      "                    Assistant 2  RoundID    MatchID Home Team Initials  \\\n",
      "0           REGO Gilberto (BRA)      201       1096                FRA   \n",
      "1         WARNKEN Alberto (CHI)      201       1090                USA   \n",
      "2           BALWAY Thomas (FRA)      201       1093                YUG   \n",
      "3      MATEUCCI Francisco (URU)      201       1098                ROU   \n",
      "4    RADULESCU Constantin (ROU)      201       1085                ARG   \n",
      "..                          ...      ...        ...                ...   \n",
      "847    KOCHKAROV Bakhadyr (KGZ)   255953  300186488                NED   \n",
      "848       QUINTERO Marcos (MEX)   255955  300186474                BRA   \n",
      "849           ONGUN Tarik (TUR)   255955  300186490                NED   \n",
      "850     ETCHIALI Abdelhak (ALG)   255957  300186502                BRA   \n",
      "851        Andrea STEFANI (ITA)   255959  300186501                GER   \n",
      "\n",
      "    Away Team Initials  \n",
      "0                  MEX  \n",
      "1                  BEL  \n",
      "2                  BRA  \n",
      "3                  PER  \n",
      "4                  FRA  \n",
      "..                 ...  \n",
      "847                CRC  \n",
      "848                GER  \n",
      "849                ARG  \n",
      "850                NED  \n",
      "851                ARG  \n",
      "\n",
      "[852 rows x 20 columns]\n"
     ]
    }
   ],
   "source": [
    "df2=pd.DataFrame(df2)\n",
    "df2.rename(columns={'Year':' Chapter ID'},inplace=True)\n",
    "print(\"\\nDataFrame after renaming the column:\")\n",
    "print(df2)\n"
   ]
  },
  {
   "cell_type": "code",
   "execution_count": 19,
   "id": "3cfcc23c",
   "metadata": {},
   "outputs": [
    {
     "data": {
      "text/plain": [
       "(     Chapter ID          Chapter Name  Movie ID  Movie Chapter\n",
       " 0             1     Doorstep Delivery         1              1\n",
       " 1             2   The Vanishing Glass         1              2\n",
       " 2             3   Letters from No One         1              3\n",
       " 3             4    Keeper of the Keys         1              4\n",
       " 4             5          Diagon Alley         1              5\n",
       " ..          ...                   ...       ...            ...\n",
       " 229         230      Declare Yourself         8             22\n",
       " 230         231              Not Over         8             23\n",
       " 231         232     The Wand's Choice         8             24\n",
       " 232         233   The Wizard's Choice         8             25\n",
       " 233         234  Nineteen Years Later         8             26\n",
       " \n",
       " [234 rows x 4 columns],\n",
       "         Chapter ID  Home Team Goals  Away Team Goals     Attendance  \\\n",
       " count   852.000000       852.000000       852.000000     850.000000   \n",
       " mean   1985.089202         1.811033         1.022300   45164.800000   \n",
       " std      22.448825         1.610255         1.087573   23485.249247   \n",
       " min    1930.000000         0.000000         0.000000    2000.000000   \n",
       " 25%    1970.000000         1.000000         0.000000   30000.000000   \n",
       " 50%    1990.000000         2.000000         1.000000   41579.500000   \n",
       " 75%    2002.000000         3.000000         2.000000   61374.500000   \n",
       " max    2014.000000        10.000000         7.000000  173850.000000   \n",
       " \n",
       "        Half-time Home Goals  Half-time Away Goals       RoundID       MatchID  \n",
       " count            852.000000            852.000000  8.520000e+02  8.520000e+02  \n",
       " mean               0.708920              0.428404  1.066177e+07  6.134687e+07  \n",
       " std                0.937414              0.691252  2.729613e+07  1.110572e+08  \n",
       " min                0.000000              0.000000  2.010000e+02  2.500000e+01  \n",
       " 25%                0.000000              0.000000  2.620000e+02  1.188750e+03  \n",
       " 50%                0.000000              0.000000  3.370000e+02  2.191000e+03  \n",
       " 75%                1.000000              1.000000  2.497220e+05  4.395006e+07  \n",
       " max                6.000000              5.000000  9.741060e+07  3.001865e+08  )"
      ]
     },
     "execution_count": 19,
     "metadata": {},
     "output_type": "execute_result"
    }
   ],
   "source": [
    "df1,df2.describe()"
   ]
  },
  {
   "cell_type": "code",
   "execution_count": 9,
   "id": "8f8ebfc2",
   "metadata": {},
   "outputs": [
    {
     "name": "stdout",
     "output_type": "stream",
     "text": [
      "Missing values in merged_df:\n"
     ]
    },
    {
     "ename": "NameError",
     "evalue": "name 'merged_df' is not defined",
     "output_type": "error",
     "traceback": [
      "\u001b[1;31m---------------------------------------------------------------------------\u001b[0m",
      "\u001b[1;31mNameError\u001b[0m                                 Traceback (most recent call last)",
      "Cell \u001b[1;32mIn[9], line 3\u001b[0m\n\u001b[0;32m      1\u001b[0m \u001b[38;5;66;03m# Check for missing values\u001b[39;00m\n\u001b[0;32m      2\u001b[0m \u001b[38;5;28mprint\u001b[39m(\u001b[38;5;124m\"\u001b[39m\u001b[38;5;124mMissing values in merged_df:\u001b[39m\u001b[38;5;124m\"\u001b[39m)\n\u001b[1;32m----> 3\u001b[0m \u001b[38;5;28mprint\u001b[39m(merged_df\u001b[38;5;241m.\u001b[39misnull()\u001b[38;5;241m.\u001b[39msum())\n\u001b[0;32m      5\u001b[0m \u001b[38;5;66;03m# Handle missing values (example: fill with mean)\u001b[39;00m\n\u001b[0;32m      6\u001b[0m merged_df\u001b[38;5;241m.\u001b[39mfillna(merged_df\u001b[38;5;241m.\u001b[39mmean(), inplace\u001b[38;5;241m=\u001b[39m\u001b[38;5;28;01mTrue\u001b[39;00m)\n",
      "\u001b[1;31mNameError\u001b[0m: name 'merged_df' is not defined"
     ]
    }
   ],
   "source": [
    "# Check for missing values\n",
    "print(\"Missing values in merged_df:\")\n",
    "print(merged_df.isnull().sum())\n",
    "\n",
    "# Handle missing values (example: fill with mean)\n",
    "merged_df.fillna(merged_df.mean(), inplace=True)"
   ]
  },
  {
   "cell_type": "code",
   "execution_count": null,
   "id": "8ca81b54",
   "metadata": {},
   "outputs": [],
   "source": []
  },
  {
   "cell_type": "code",
   "execution_count": null,
   "id": "c399a811",
   "metadata": {},
   "outputs": [],
   "source": []
  },
  {
   "cell_type": "code",
   "execution_count": 8,
   "id": "c5d64803",
   "metadata": {},
   "outputs": [
    {
     "data": {
      "image/png": "[encoded data removed]",
      "text/plain": [
       "<Figure size 1000x600 with 1 Axes>"
      ]
     },
     "metadata": {},
     "output_type": "display_data"
    }
   ],
   "source": [
    "# Visualization 1: Bar Chart - Distribution of Matches Over the Years\n",
    "matches_per_year = df2['Year'].value_counts().sort_index()\n",
    "\n",
    "plt.figure(figsize=(10, 6))\n",
    "matches_per_year.plot(kind='bar', color='skyblue')\n",
    "plt.title('Number of Matches Played Each Year')\n",
    "plt.xlabel('Year')\n",
    "plt.ylabel('Number of Matches')\n",
    "plt.show()"
   ]
  },
  {
   "cell_type": "code",
   "execution_count": 15,
   "id": "0d7d5b83",
   "metadata": {},
   "outputs": [
    {
     "data": {
      "image/png": "[encoded data removed]",
      "text/plain": [
       "<Figure size 800x800 with 1 Axes>"
      ]
     },
     "metadata": {},
     "output_type": "display_data"
    }
   ],
   "source": [
    "plt.figure(figsize=(8, 8))\n",
    "plt.pie(outcome_counts, labels=outcome_counts.index, autopct='%1.1f%%', colors=['gold', 'lightcoral', 'lightskyblue'])\n",
    "plt.title('Distribution of Match Outcomes')\n",
    "plt.show()"
   ]
  },
  {
   "cell_type": "code",
   "execution_count": 16,
   "id": "0741c368",
   "metadata": {},
   "outputs": [
    {
     "name": "stdout",
     "output_type": "stream",
     "text": [
      "Dictionary of Matches Per Year:\n",
      "{1930: 18, 1934: 17, 1938: 18, 1950: 22, 1954: 26, 1958: 35, 1962: 32, 1966: 32, 1970: 32, 1974: 38, 1978: 38, 1982: 52, 1986: 52, 1990: 52, 1994: 52, 1998: 64, 2002: 64, 2006: 64, 2010: 64, 2014: 80}\n"
     ]
    }
   ],
   "source": [
    "# Create a dictionary with the number of matches played each year\n",
    "matches_per_year_dict = matches_per_year.to_dict()\n",
    "\n",
    "# Display the dictionary\n",
    "print(\"Dictionary of Matches Per Year:\")\n",
    "print(matches_per_year_dict)"
   ]
  },
  {
   "cell_type": "code",
   "execution_count": 21,
   "id": "537c23d1",
   "metadata": {},
   "outputs": [
    {
     "name": "stdout",
     "output_type": "stream",
     "text": [
      "     Chapter ID          Chapter Name  Movie ID  Movie Chapter  IsFirstChapter\n",
      "0             1     Doorstep Delivery         1              1               1\n",
      "1             2   The Vanishing Glass         1              2               0\n",
      "2             3   Letters from No One         1              3               0\n",
      "3             4    Keeper of the Keys         1              4               0\n",
      "4             5          Diagon Alley         1              5               0\n",
      "..          ...                   ...       ...            ...             ...\n",
      "229         230      Declare Yourself         8             22               0\n",
      "230         231              Not Over         8             23               0\n",
      "231         232     The Wand's Choice         8             24               0\n",
      "232         233   The Wizard's Choice         8             25               0\n",
      "233         234  Nineteen Years Later         8             26               0\n",
      "\n",
      "[234 rows x 5 columns]\n"
     ]
    }
   ],
   "source": [
    "import pandas as pd\n",
    "\n",
    "# Assuming your DataFrame is named df\n",
    "# If you haven't loaded the data, you can do so with:\n",
    "# df = pd.read_csv('your_file.csv')\n",
    "\n",
    "# Create a new variable 'IsFirstChapter' based on the condition\n",
    "df1['IsFirstChapter'] = (df1['Movie Chapter'] == 1).astype(int)\n",
    "\n",
    "# Display the updated DataFrame\n",
    "print(df1)\n"
   ]
  },
  {
   "cell_type": "code",
   "execution_count": 23,
   "id": "47f6b881",
   "metadata": {},
   "outputs": [
    {
     "data": {
      "image/png": "[encoded data removed]",
      "text/plain": [
       "<Figure size 1000x600 with 1 Axes>"
      ]
     },
     "metadata": {},
     "output_type": "display_data"
    }
   ],
   "source": [
    "# Visualization 1: Bar Chart - Distribution of Chapters per Movie\n",
    "chapters_per_movie = df1.groupby('Movie ID')['Chapter ID'].count()\n",
    "\n",
    "plt.figure(figsize=(10, 6))\n",
    "chapters_per_movie.plot(kind='bar', color='skyblue')\n",
    "plt.title('Distribution of Chapters per Movie')\n",
    "plt.xlabel('Movie ID')\n",
    "plt.ylabel('Number of Chapters')\n",
    "plt.show()\n"
   ]
  },
  {
   "cell_type": "code",
   "execution_count": 24,
   "id": "43dae71b",
   "metadata": {},
   "outputs": [
    {
     "data": {
      "image/png": "[encoded data removed]",
      "text/plain": [
       "<Figure size 800x800 with 1 Axes>"
      ]
     },
     "metadata": {},
     "output_type": "display_data"
    }
   ],
   "source": [
    "# Visualization 2: Pie Chart - Proportion of Movies with First Chapter\n",
    "first_chapter_counts = df1['IsFirstChapter'].value_counts()\n",
    "\n",
    "plt.figure(figsize=(8, 8))\n",
    "plt.pie(first_chapter_counts, labels=first_chapter_counts.index, autopct='%1.1f%%', colors=['lightcoral', 'lightskyblue'])\n",
    "plt.title('Proportion of Movies with First Chapter')\n",
    "plt.show()"
   ]
  },
  {
   "cell_type": "code",
   "execution_count": null,
   "id": "f5a7e5ae",
   "metadata": {},
   "outputs": [],
   "source": []
  }
 ],
 "metadata": {
  "kernelspec": {
   "display_name": "Python (learn-env)",
   "language": "python",
   "name": "learn-env"
  },
  "language_info": {
   "codemirror_mode": {
    "name": "ipython",
    "version": 3
   },
   "file_extension": ".py",
   "mimetype": "text/x-python",
   "name": "python",
   "nbconvert_exporter": "python",
   "pygments_lexer": "ipython3",
   "version": "3.11.5"
  }
 },
 "nbformat": 4,
 "nbformat_minor": 5
}
